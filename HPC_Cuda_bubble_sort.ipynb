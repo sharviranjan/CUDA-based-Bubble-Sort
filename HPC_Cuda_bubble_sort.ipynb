{
  "nbformat": 4,
  "nbformat_minor": 0,
  "metadata": {
    "colab": {
      "provenance": [],
      "gpuType": "T4"
    },
    "kernelspec": {
      "name": "python3",
      "display_name": "Python 3"
    },
    "language_info": {
      "name": "python"
    },
    "accelerator": "GPU"
  },
  "cells": [
    {
      "cell_type": "code",
      "execution_count": null,
      "metadata": {
        "colab": {
          "base_uri": "https://localhost:8080/"
        },
        "id": "YlqYmHa4u81S",
        "outputId": "935c39d7-0a62-42e2-be71-5007638bcf8a"
      },
      "outputs": [
        {
          "output_type": "stream",
          "name": "stdout",
          "text": [
            "Thu Apr 24 06:00:02 2025       \n",
            "+-----------------------------------------------------------------------------------------+\n",
            "| NVIDIA-SMI 550.54.15              Driver Version: 550.54.15      CUDA Version: 12.4     |\n",
            "|-----------------------------------------+------------------------+----------------------+\n",
            "| GPU  Name                 Persistence-M | Bus-Id          Disp.A | Volatile Uncorr. ECC |\n",
            "| Fan  Temp   Perf          Pwr:Usage/Cap |           Memory-Usage | GPU-Util  Compute M. |\n",
            "|                                         |                        |               MIG M. |\n",
            "|=========================================+========================+======================|\n",
            "|   0  Tesla T4                       Off |   00000000:00:04.0 Off |                    0 |\n",
            "| N/A   62C    P8             11W /   70W |       0MiB /  15360MiB |      0%      Default |\n",
            "|                                         |                        |                  N/A |\n",
            "+-----------------------------------------+------------------------+----------------------+\n",
            "                                                                                         \n",
            "+-----------------------------------------------------------------------------------------+\n",
            "| Processes:                                                                              |\n",
            "|  GPU   GI   CI        PID   Type   Process name                              GPU Memory |\n",
            "|        ID   ID                                                               Usage      |\n",
            "|=========================================================================================|\n",
            "|  No running processes found                                                             |\n",
            "+-----------------------------------------------------------------------------------------+\n"
          ]
        }
      ],
      "source": [
        "!nvidia-smi"
      ]
    },
    {
      "cell_type": "code",
      "source": [
        "code = r'''\n",
        "#include \"cuda_runtime.h\"\n",
        "#include \"device_launch_parameters.h\"\n",
        "#include <iostream>\n",
        "#include <chrono>\n",
        "#include <algorithm>\n",
        "\n",
        "#define SIZE 512\n",
        "\n",
        "__device__ void swap(int& a, int& b) {\n",
        "    int tmp = a;\n",
        "    a = b;\n",
        "    b = tmp;\n",
        "}\n",
        "\n",
        "__global__ void oddEvenSort(int* data, int n) {\n",
        "    int tid = threadIdx.x;\n",
        "\n",
        "    for (int i = 0; i < n; i++) {\n",
        "        int idx = 2 * tid + (i % 2);\n",
        "        if (idx + 1 < n && data[idx] > data[idx + 1]) {\n",
        "            swap(data[idx], data[idx + 1]);\n",
        "        }\n",
        "        __syncthreads(); // sync between odd/even phases\n",
        "    }\n",
        "}\n",
        "\n",
        "void cpuBubbleSort(int* arr, int n) {\n",
        "    for (int i = 0; i < n - 1; i++) {\n",
        "        for (int j = 0; j < n - i - 1; j++) {\n",
        "            if (arr[j] > arr[j + 1]) {\n",
        "                std::swap(arr[j], arr[j + 1]);\n",
        "            }\n",
        "        }\n",
        "    }\n",
        "}\n",
        "\n",
        "void printArray(const int* arr, int n, const char* label) {\n",
        "    std::cout << label << \": \";\n",
        "    for (int i = 0; i < n; ++i) {\n",
        "        std::cout << arr[i] << \" \";\n",
        "    }\n",
        "    std::cout << \"\\n\";\n",
        "}\n",
        "\n",
        "int main() {\n",
        "    int h_data[SIZE], h_cpu[SIZE];\n",
        "    for (int i = 0; i < SIZE; ++i)\n",
        "        h_data[i] = rand() % 100;\n",
        "\n",
        "    std::copy(h_data, h_data + SIZE, h_cpu);\n",
        "\n",
        "    std::cout << \"Original Array:\\n\";\n",
        "    printArray(h_data, SIZE, \"Original\");\n",
        "\n",
        "    // CPU Timing\n",
        "    auto start_cpu = std::chrono::high_resolution_clock::now();\n",
        "    cpuBubbleSort(h_cpu, SIZE);\n",
        "    auto end_cpu = std::chrono::high_resolution_clock::now();\n",
        "    std::chrono::duration<double, std::milli> cpu_duration = end_cpu - start_cpu;\n",
        "    std::cout << \"CPU Time: \" << cpu_duration.count() << \" ms\\n\";\n",
        "\n",
        "    std::cout << \"CPU Sorted Array:\\n\";\n",
        "    printArray(h_cpu, SIZE, \"CPU Sorted\");\n",
        "\n",
        "    // GPU Setup\n",
        "    int* d_data;\n",
        "    cudaMalloc((void**)&d_data, SIZE * sizeof(int));\n",
        "    cudaMemcpy(d_data, h_data, SIZE * sizeof(int), cudaMemcpyHostToDevice);\n",
        "\n",
        "    // GPU Timing\n",
        "    cudaEvent_t start, stop;\n",
        "    cudaEventCreate(&start);\n",
        "    cudaEventCreate(&stop);\n",
        "    cudaEventRecord(start);\n",
        "\n",
        "    dim3 grid(1);\n",
        "    dim3 block(SIZE / 2);  // Each thread compares one pair\n",
        "\n",
        "    oddEvenSort<<<grid, block>>>(d_data, SIZE);\n",
        "    cudaEventRecord(stop);\n",
        "    cudaEventSynchronize(stop);\n",
        "\n",
        "    float gpu_time = 0;\n",
        "    cudaEventElapsedTime(&gpu_time, start, stop);\n",
        "    std::cout << \"GPU Time: \" << gpu_time << \" ms\\n\";\n",
        "\n",
        "    // Get result\n",
        "    int h_result[SIZE];\n",
        "    cudaMemcpy(h_result, d_data, SIZE * sizeof(int), cudaMemcpyDeviceToHost);\n",
        "\n",
        "    std::cout << \"GPU Sorted Array:\\n\";\n",
        "    printArray(h_result, SIZE, \"GPU Sorted\");\n",
        "\n",
        "    // Validation (optional)\n",
        "    bool isValid = true;\n",
        "    for (int i = 0; i < SIZE; ++i) {\n",
        "        if (h_result[i] != h_cpu[i]) {\n",
        "            std::cerr << \"Mismatch at index \" << i << \"!\\n\";\n",
        "            isValid = false;\n",
        "            break;\n",
        "        }\n",
        "    }\n",
        "\n",
        "    if (isValid) {\n",
        "        std::cout << \"Validation Passed: CPU and GPU results match.\\n\";\n",
        "    } else {\n",
        "        std::cerr << \"Validation Failed: CPU and GPU results do not match.\\n\";\n",
        "    }\n",
        "\n",
        "    std::cout << \"Speedup (CPU/GPU): \" << cpu_duration.count() / gpu_time << \"x\\n\";\n",
        "\n",
        "    cudaFree(d_data);\n",
        "    cudaEventDestroy(start);\n",
        "    cudaEventDestroy(stop);\n",
        "    return 0;\n",
        "}\n",
        "\n",
        "\n",
        "'''\n",
        "with open('bubblesort.cu', 'w') as f:\n",
        "    f.write(code)"
      ],
      "metadata": {
        "id": "XiuN_NhwvVXx"
      },
      "execution_count": null,
      "outputs": []
    },
    {
      "cell_type": "code",
      "source": [
        "!nvcc -arch=sm_75 bubblesort.cu -o bubblesort"
      ],
      "metadata": {
        "id": "h4jaJ6Qavcp_"
      },
      "execution_count": null,
      "outputs": []
    },
    {
      "cell_type": "code",
      "source": [
        "!./bubblesort"
      ],
      "metadata": {
        "colab": {
          "base_uri": "https://localhost:8080/"
        },
        "id": "JKQi8PWmvejR",
        "outputId": "07aadd1a-ef69-4ca4-fbbf-82dfd47cc472"
      },
      "execution_count": null,
      "outputs": [
        {
          "output_type": "stream",
          "name": "stdout",
          "text": [
            "Original Array:\n",
            "Original: 83 86 77 15 93 35 86 92 49 21 62 27 90 59 63 26 40 26 72 36 11 68 67 29 82 30 62 23 67 35 29 2 22 58 69 67 93 56 11 42 29 73 21 19 84 37 98 24 15 70 13 26 91 80 56 73 62 70 96 81 5 25 84 27 36 5 46 29 13 57 24 95 82 45 14 67 34 64 43 50 87 8 76 78 88 84 3 51 54 99 32 60 76 68 39 12 26 86 94 39 95 70 34 78 67 1 97 2 17 92 52 56 1 80 86 41 65 89 44 19 40 29 31 17 97 71 81 75 9 27 67 56 97 53 86 65 6 83 19 24 28 71 32 29 3 19 70 68 8 15 40 49 96 23 18 45 46 51 21 55 79 88 64 28 41 50 93 0 34 64 24 14 87 56 43 91 27 65 59 36 32 51 37 28 75 7 74 21 58 95 29 37 35 93 18 28 43 11 28 29 76 4 43 63 13 38 6 40 4 18 28 88 69 17 17 96 24 43 70 83 90 99 72 25 44 90 5 39 54 86 69 82 42 64 97 7 55 4 48 11 22 28 99 43 46 68 40 22 11 10 5 1 61 30 78 5 20 36 44 26 22 65 8 16 82 58 24 37 62 24 0 36 52 99 79 50 68 71 73 31 81 30 33 94 60 63 99 81 99 96 59 73 13 68 90 95 26 66 84 40 90 84 76 42 36 7 45 56 79 18 87 12 48 72 59 9 36 10 42 87 6 1 13 72 21 55 19 99 21 4 39 11 40 67 5 28 27 50 84 58 20 24 22 69 96 81 30 84 92 72 72 50 25 85 22 99 40 42 98 13 98 90 24 90 9 81 19 36 32 55 94 4 79 69 73 76 50 55 60 42 79 84 93 5 21 67 4 13 61 54 26 59 44 2 2 6 84 21 42 68 28 89 72 8 58 98 36 8 53 48 3 33 33 48 90 54 67 46 68 29 0 46 88 97 49 90 3 33 63 97 53 92 86 25 52 96 75 88 57 29 36 60 14 21 60 4 28 27 50 48 56 2 94 97 99 43 39 2 28 3 0 81 47 38 59 51 35 34 39 92 15 27 4 29 49 64 85 29 43 35 77 0 38 71 49 89 67 88 92 95 43 44 29 90 82 40 41 69 26 32 61 42 60 17 23 61 81 9 90 25 96 67 \n",
            "CPU Time: 1.31995 ms\n",
            "CPU Sorted Array:\n",
            "CPU Sorted: 0 0 0 0 0 1 1 1 1 2 2 2 2 2 2 3 3 3 3 3 4 4 4 4 4 4 4 4 5 5 5 5 5 5 5 6 6 6 6 7 7 7 8 8 8 8 8 9 9 9 9 10 10 11 11 11 11 11 11 12 12 13 13 13 13 13 13 13 14 14 14 15 15 15 15 16 17 17 17 17 17 18 18 18 18 19 19 19 19 19 19 20 20 21 21 21 21 21 21 21 21 21 22 22 22 22 22 22 23 23 23 24 24 24 24 24 24 24 24 24 25 25 25 25 25 26 26 26 26 26 26 26 26 27 27 27 27 27 27 27 28 28 28 28 28 28 28 28 28 28 28 29 29 29 29 29 29 29 29 29 29 29 29 29 30 30 30 30 31 31 32 32 32 32 32 33 33 33 33 34 34 34 34 35 35 35 35 35 36 36 36 36 36 36 36 36 36 36 37 37 37 37 38 38 38 39 39 39 39 39 39 40 40 40 40 40 40 40 40 40 41 41 41 42 42 42 42 42 42 42 42 43 43 43 43 43 43 43 43 43 44 44 44 44 44 45 45 45 46 46 46 46 46 47 48 48 48 48 48 49 49 49 49 49 50 50 50 50 50 50 50 51 51 51 51 52 52 52 53 53 53 54 54 54 54 55 55 55 55 55 56 56 56 56 56 56 56 57 57 58 58 58 58 58 59 59 59 59 59 59 60 60 60 60 60 60 61 61 61 61 62 62 62 62 63 63 63 63 64 64 64 64 64 65 65 65 65 66 67 67 67 67 67 67 67 67 67 67 67 68 68 68 68 68 68 68 68 69 69 69 69 69 69 70 70 70 70 70 71 71 71 71 72 72 72 72 72 72 72 73 73 73 73 73 74 75 75 75 76 76 76 76 76 77 77 78 78 78 79 79 79 79 79 80 80 81 81 81 81 81 81 81 81 82 82 82 82 82 83 83 83 84 84 84 84 84 84 84 84 84 85 85 86 86 86 86 86 86 86 87 87 87 87 88 88 88 88 88 88 89 89 89 90 90 90 90 90 90 90 90 90 90 90 91 91 92 92 92 92 92 92 93 93 93 93 93 94 94 94 94 95 95 95 95 95 96 96 96 96 96 96 96 97 97 97 97 97 97 97 98 98 98 98 99 99 99 99 99 99 99 99 99 \n",
            "GPU Time: 0.264224 ms\n",
            "GPU Sorted Array:\n",
            "GPU Sorted: 0 0 0 0 0 1 1 1 1 2 2 2 2 2 2 3 3 3 3 3 4 4 4 4 4 4 4 4 5 5 5 5 5 5 5 6 6 6 6 7 7 7 8 8 8 8 8 9 9 9 9 10 10 11 11 11 11 11 11 12 12 13 13 13 13 13 13 13 14 14 14 15 15 15 15 16 17 17 17 17 17 18 18 18 18 19 19 19 19 19 19 20 20 21 21 21 21 21 21 21 21 21 22 22 22 22 22 22 23 23 23 24 24 24 24 24 24 24 24 24 25 25 25 25 25 26 26 26 26 26 26 26 26 27 27 27 27 27 27 27 28 28 28 28 28 28 28 28 28 28 28 29 29 29 29 29 29 29 29 29 29 29 29 29 30 30 30 30 31 31 32 32 32 32 32 33 33 33 33 34 34 34 34 35 35 35 35 35 36 36 36 36 36 36 36 36 36 36 37 37 37 37 38 38 38 39 39 39 39 39 39 40 40 40 40 40 40 40 40 40 41 41 41 42 42 42 42 42 42 42 42 43 43 43 43 43 43 43 43 43 44 44 44 44 44 45 45 45 46 46 46 46 46 47 48 48 48 48 48 49 49 49 49 49 50 50 50 50 50 50 50 51 51 51 51 52 52 52 53 53 53 54 54 54 54 55 55 55 55 55 56 56 56 56 56 56 56 57 57 58 58 58 58 58 59 59 59 59 59 59 60 60 60 60 60 60 61 61 61 61 62 62 62 62 63 63 63 63 64 64 64 64 64 65 65 65 65 66 67 67 67 67 67 67 67 67 67 67 67 68 68 68 68 68 68 68 68 69 69 69 69 69 69 70 70 70 70 70 71 71 71 71 72 72 72 72 72 72 72 73 73 73 73 73 74 75 75 75 76 76 76 76 76 77 77 78 78 78 79 79 79 79 79 80 80 81 81 81 81 81 81 81 81 82 82 82 82 82 83 83 83 84 84 84 84 84 84 84 84 84 85 85 86 86 86 86 86 86 86 87 87 87 87 88 88 88 88 88 88 89 89 89 90 90 90 90 90 90 90 90 90 90 90 91 91 92 92 92 92 92 92 93 93 93 93 93 94 94 94 94 95 95 95 95 95 96 96 96 96 96 96 96 97 97 97 97 97 97 97 98 98 98 98 99 99 99 99 99 99 99 99 99 \n",
            "Validation Passed: CPU and GPU results match.\n",
            "Speedup (CPU/GPU): 4.99557x\n"
          ]
        }
      ]
    }
  ]
}